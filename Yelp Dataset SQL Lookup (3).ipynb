{
 "cells": [
  {
   "cell_type": "code",
   "execution_count": null,
   "metadata": {
    "slideshow": {
     "slide_type": "-"
    }
   },
   "outputs": [],
   "source": [
    "Part 1: Yelp Dataset Profiling and Understanding\n",
    "\n",
    "1. Profile the data by finding the total number of records for each of the tables below:\n",
    "\t\n",
    "i. Attribute table = 10000\n",
    "ii. Business table = 10000\n",
    "iii. Category table = 10000\n",
    "iv. Checkin table = 10000\n",
    "v. elite_years table = 10000\n",
    "vi. friend table = 10000\n",
    "vii. hours table = 10000\n",
    "viii. photo table = 10000\n",
    "ix. review table = 10000\n",
    "x. tip table = 10000\n",
    "xi. user table = 10000\n",
    "\t"
   ]
  },
  {
   "cell_type": "code",
   "execution_count": null,
   "metadata": {
    "slideshow": {
     "slide_type": "slide"
    }
   },
   "outputs": [],
   "source": [
    "#i. Attribute table = 10000\n",
    "\n",
    "SELECT COUNT(*) FROM attribute\n",
    "\n",
    "+----------+\n",
    "| COUNT(*) |\n",
    "+----------+\n",
    "|    10000 |\n",
    "+----------+\n"
   ]
  },
  {
   "cell_type": "code",
   "execution_count": null,
   "metadata": {
    "slideshow": {
     "slide_type": "slide"
    }
   },
   "outputs": [],
   "source": [
    "ii. Business table = 10000\n",
    "\n",
    "SELECT COUNT(*) FROM business\n",
    "\n",
    "+----------+\n",
    "| COUNT(*) |\n",
    "+----------+\n",
    "|    10000 |\n",
    "+----------+"
   ]
  },
  {
   "cell_type": "code",
   "execution_count": null,
   "metadata": {
    "slideshow": {
     "slide_type": "slide"
    }
   },
   "outputs": [],
   "source": [
    "iii. Category table = 10000\n",
    "\n",
    "\n",
    "SELECT COUNT(*) FROM category\n",
    "\n",
    "+----------+\n",
    "| COUNT(*) |\n",
    "+----------+\n",
    "|    10000 |\n",
    "+----------+"
   ]
  },
  {
   "cell_type": "code",
   "execution_count": null,
   "metadata": {
    "slideshow": {
     "slide_type": "slide"
    }
   },
   "outputs": [],
   "source": [
    "iv. Checkin table = 10000\n",
    "\n",
    "SELECT COUNT(*) FROM checkin\n",
    "\n",
    "+----------+\n",
    "| COUNT(*) |\n",
    "+----------+\n",
    "|    10000 |\n",
    "+----------+"
   ]
  },
  {
   "cell_type": "code",
   "execution_count": null,
   "metadata": {
    "slideshow": {
     "slide_type": "slide"
    }
   },
   "outputs": [],
   "source": [
    "v. elite_years table = 10000\n",
    "\n",
    "SELECT COUNT(*) FROM elite_years\n",
    "\n",
    "+----------+\n",
    "| COUNT(*) |\n",
    "+----------+\n",
    "|    10000 |\n",
    "+----------+\n"
   ]
  },
  {
   "cell_type": "code",
   "execution_count": null,
   "metadata": {
    "slideshow": {
     "slide_type": "slide"
    }
   },
   "outputs": [],
   "source": [
    "vi. friend table = 10000\n",
    "\n",
    "SELECT COUNT(*) FROM friend\n",
    "\n",
    "+----------+\n",
    "| COUNT(*) |\n",
    "+----------+\n",
    "|    10000 |\n",
    "+----------+"
   ]
  },
  {
   "cell_type": "code",
   "execution_count": null,
   "metadata": {
    "slideshow": {
     "slide_type": "slide"
    }
   },
   "outputs": [],
   "source": [
    "vii. hours table = 10000\n",
    "\n",
    "SELECT COUNT(*) FROM hours\n",
    "+----------+\n",
    "| COUNT(*) |\n",
    "+----------+\n",
    "|    10000 |\n",
    "+----------+"
   ]
  },
  {
   "cell_type": "code",
   "execution_count": null,
   "metadata": {
    "slideshow": {
     "slide_type": "slide"
    }
   },
   "outputs": [],
   "source": [
    "viii. photo table = 10000\n",
    "\n",
    "SELECT COUNT(*) FROM photo\n",
    "\n",
    "+----------+\n",
    "| COUNT(*) |\n",
    "+----------+\n",
    "|    10000 |\n",
    "+----------+"
   ]
  },
  {
   "cell_type": "code",
   "execution_count": null,
   "metadata": {
    "slideshow": {
     "slide_type": "slide"
    }
   },
   "outputs": [],
   "source": [
    "ix. review table = 10000\n",
    "\n",
    "SELECT COUNT(*) FROM review\n",
    "\n",
    "+----------+\n",
    "| COUNT(*) |\n",
    "+----------+\n",
    "|    10000 |\n",
    "+----------+"
   ]
  },
  {
   "cell_type": "code",
   "execution_count": null,
   "metadata": {
    "slideshow": {
     "slide_type": "slide"
    }
   },
   "outputs": [],
   "source": [
    "x. tip table = 10000\n",
    "\n",
    "SELECT COUNT(*) FROM tip\n",
    "+----------+\n",
    "| COUNT(*) |\n",
    "+----------+\n",
    "|    10000 |\n",
    "+----------+"
   ]
  },
  {
   "cell_type": "raw",
   "metadata": {
    "slideshow": {
     "slide_type": "slide"
    }
   },
   "source": [
    "xi. user table = 10000\n",
    "\n",
    "SELECT COUNT(*) FROM user\n",
    "\n",
    "+----------+\n",
    "| COUNT(*) |\n",
    "+----------+\n",
    "|    10000 |\n",
    "+----------+\n"
   ]
  },
  {
   "cell_type": "code",
   "execution_count": null,
   "metadata": {},
   "outputs": [],
   "source": []
  },
  {
   "cell_type": "code",
   "execution_count": null,
   "metadata": {
    "slideshow": {
     "slide_type": "slide"
    }
   },
   "outputs": [],
   "source": [
    "2. Find the total distinct records by either the foreign key or primary key for each table. If two foreign keys are listed in the table, please specify which foreign key.\n",
    "\n",
    "i. Business =\n",
    "ii. Hours =\n",
    "iii. Category =\n",
    "iv. Attribute =\n",
    "v. Review =\n",
    "vi. Checkin = \n",
    "vii. Photo =\n",
    "viii. Tip = \n",
    "ix. User = \n",
    "x. Friend = \n",
    "xi. Elite_years ="
   ]
  },
  {
   "cell_type": "code",
   "execution_count": null,
   "metadata": {
    "slideshow": {
     "slide_type": "slide"
    }
   },
   "outputs": [],
   "source": [
    "\n",
    "i. Business = 10000\n",
    "\n",
    "SELECT COUNT(DISTINCT ID) FROM Business \n",
    "\n",
    "+--------------------+\n",
    "| COUNT(DISTINCT ID) |\n",
    "+--------------------+\n",
    "|              10000 |\n",
    "+--------------------+"
   ]
  },
  {
   "cell_type": "code",
   "execution_count": null,
   "metadata": {
    "slideshow": {
     "slide_type": "slide"
    }
   },
   "outputs": [],
   "source": [
    "ii. Hours = 1562\n",
    "\n",
    "\n",
    "SELECT COUNT(DISTINCT business_id) FROM hours \n",
    "Reset\n",
    "+-----------------------------+\n",
    "| COUNT(DISTINCT business_id) |\n",
    "+-----------------------------+\n",
    "|                        1562 |\n",
    "+-----------------------------+"
   ]
  },
  {
   "cell_type": "code",
   "execution_count": null,
   "metadata": {
    "slideshow": {
     "slide_type": "subslide"
    }
   },
   "outputs": [],
   "source": [
    "iii. Category = 2643\n",
    "\n",
    "SELECT COUNT(DISTINCT business_id) FROM category \n",
    "\n",
    "+-----------------------------+\n",
    "| COUNT(DISTINCT business_id) |\n",
    "+-----------------------------+\n",
    "|                        2643 |\n",
    "+-----------------------------+"
   ]
  },
  {
   "cell_type": "code",
   "execution_count": null,
   "metadata": {
    "slideshow": {
     "slide_type": "slide"
    }
   },
   "outputs": [],
   "source": [
    "iv. Attribute = 1115\n",
    "\n",
    "SELECT COUNT(DISTINCT business_id) FROM attribute \n",
    "\n",
    "+-----------------------------+\n",
    "| COUNT(DISTINCT business_id) |\n",
    "+-----------------------------+\n",
    "|                        1115 |\n",
    "+-----------------------------+"
   ]
  },
  {
   "cell_type": "code",
   "execution_count": null,
   "metadata": {},
   "outputs": [],
   "source": [
    "v. Review = 10000\n",
    "\n",
    "SELECT COUNT( id) FROM review \n",
    "+------------+\n",
    "| COUNT( id) |\n",
    "+------------+\n",
    "|      10000 |\n",
    "+------------+"
   ]
  },
  {
   "cell_type": "code",
   "execution_count": null,
   "metadata": {
    "slideshow": {
     "slide_type": "slide"
    }
   },
   "outputs": [],
   "source": [
    "vi. Checkin = 493\n",
    "\n",
    "SELECT COUNT(DISTINCT business_id) FROM checkin \n",
    "\n",
    "+-----------------------------+\n",
    "| COUNT(DISTINCT business_id) |\n",
    "+-----------------------------+\n",
    "|                         493 |\n",
    "+-----------------------------+\n",
    "\n"
   ]
  },
  {
   "cell_type": "code",
   "execution_count": null,
   "metadata": {},
   "outputs": [],
   "source": [
    "vii. Photo = 10000\n",
    "\n",
    "SELECT COUNT(id) FROM photo \n",
    "+------------+\n",
    "| COUNT( id) |\n",
    "+------------+\n",
    "|      10000 |\n",
    "+------------+\n"
   ]
  },
  {
   "cell_type": "code",
   "execution_count": null,
   "metadata": {
    "slideshow": {
     "slide_type": "slide"
    }
   },
   "outputs": [],
   "source": [
    "viii. Tip = 1) 537 according to DISTINCT user_id \n",
    "            2) 3979 according to DISTINCT business_id\n",
    "\n",
    "##FK 1 \n",
    "SELECT COUNT(DISTINCT user_id) FROM tip \n",
    "+-------------------------+\n",
    "| COUNT(DISTINCT user_id) |\n",
    "+-------------------------+\n",
    "|                     537 |\n",
    "+-------------------------+\n",
    "\n",
    "\n",
    "\n",
    "# the other FK  \n",
    "SELECT COUNT(DISTINCT business_id) FROM tip \n",
    "+-----------------------------+\n",
    "| COUNT(DISTINCT business_id) |\n",
    "+-----------------------------+\n",
    "|                        3979 |\n",
    "+-----------------------------+"
   ]
  },
  {
   "cell_type": "code",
   "execution_count": null,
   "metadata": {
    "slideshow": {
     "slide_type": "slide"
    }
   },
   "outputs": [],
   "source": [
    "ix. User = 10000\n",
    "\n",
    "SELECT COUNT(id) FROM user \n",
    "+-----------+\n",
    "| COUNT(id) |\n",
    "+-----------+\n",
    "|     10000 |\n",
    "+-----------+"
   ]
  },
  {
   "cell_type": "code",
   "execution_count": null,
   "metadata": {
    "slideshow": {
     "slide_type": "slide"
    }
   },
   "outputs": [],
   "source": [
    "x. Friend = 11\n",
    "SELECT COUNT(DISTINCT user_id) FROM friend \n",
    "+-------------------------+\n",
    "| COUNT(DISTINCT user_id) |\n",
    "+-------------------------+\n",
    "|                      11 |\n",
    "+-------------------------+"
   ]
  },
  {
   "cell_type": "code",
   "execution_count": null,
   "metadata": {
    "slideshow": {
     "slide_type": "slide"
    }
   },
   "outputs": [],
   "source": [
    "xi. Elite_years = 2780\n",
    "\n",
    "\n",
    "SELECT COUNT(DISTINCT user_id) FROM Elite_years \n",
    "+-------------------------+\n",
    "| COUNT(DISTINCT user_id) |\n",
    "+-------------------------+\n",
    "|                    2780 |\n",
    "+-------------------------+"
   ]
  },
  {
   "cell_type": "code",
   "execution_count": null,
   "metadata": {},
   "outputs": [],
   "source": []
  },
  {
   "cell_type": "code",
   "execution_count": null,
   "metadata": {
    "slideshow": {
     "slide_type": "slide"
    }
   },
   "outputs": [],
   "source": [
    "\n",
    "3. Are there any columns with null values in the Users table? Indicate \"yes,\" or \"no.\"\n",
    "\n",
    "\tAnswer: NO\n",
    "\t\n",
    "\t\n",
    "\tSQL code used to arrive at answer:\n",
    "\n",
    "SELECT * FROM User\n",
    "WHERE compliment_photos  IS NULL \n",
    "OR compliment_writer IS NULL \n",
    "OR compliment_funny IS NULL \n",
    "OR compliment_cool IS NULL \n",
    "OR compliment_plain IS NULL \n",
    "OR compliment_note IS NULL \n",
    "OR compliment_list IS NULL \n",
    "OR compliment_cute IS NULL\n",
    "OR compliment_profile IS NULL \n",
    "OR compliment_more IS NULL \n",
    "OR compliment_hot IS NULL \n",
    "OR average_stars IS NULL \n",
    "OR fans IS NULL \n",
    "OR cool IS NULL \n",
    "OR funny  IS NULL \n",
    "OR useful IS NULL \n",
    "OR yelping_since IS NULL \n",
    "OR review_count IS NULL \n",
    "OR name IS NULL \n",
    "OR id IS NULL\n"
   ]
  },
  {
   "cell_type": "code",
   "execution_count": null,
   "metadata": {},
   "outputs": [],
   "source": []
  },
  {
   "cell_type": "code",
   "execution_count": null,
   "metadata": {
    "slideshow": {
     "slide_type": "slide"
    }
   },
   "outputs": [],
   "source": [
    "\t\n",
    "4. For each table and column listed below, display the smallest (minimum), largest (maximum), and average (mean) value for the following fields:\n",
    "\n",
    "\ti. Table: Review, Column: Stars\n",
    "\t\n",
    "\t\tmin: 1\tmax: 5\tavg: 3.7082\n",
    "        \n",
    "SELECT MIN(Stars) , MAX(Stars) , AVG(Stars) FROM Review\n",
    "+------------+------------+------------+\n",
    "| MIN(Stars) | MAX(Stars) | AVG(Stars) |\n",
    "+------------+------------+------------+\n",
    "|          1 |          5 |     3.7082 |\n",
    "+------------+------------+------------+\n",
    "\n",
    "\t\t+------------+------------+------------++------------+------------+------------+\n",
    "\n",
    "\t\n",
    "\tii. Table: Business, Column: Stars\n",
    "\t\n",
    "\t\tmin: 1.0 \t\tmax: 5.0\t\tavg:  3.6549\n",
    "\t\t\n",
    " SELECT MIN(Stars) , MAX(Stars) , AVG(Stars) FROM Business\n",
    "+------------+------------+------------+\n",
    "| MIN(Stars) | MAX(Stars) | AVG(Stars) |\n",
    "+------------+------------+------------+\n",
    "|        1.0 |        5.0 |     3.6549 |\n",
    "+------------+------------+------------+\n",
    "\n",
    "\n",
    "\t\t+------------+------------+------------++------------+------------+------------+\n",
    "\n",
    "\tiii. Table: Tip, Column: Likes\n",
    "\t\n",
    "\t\tmin: 0\t\tmax: 2\t\tavg: 0.0144\n",
    "\t\t\n",
    "        \n",
    "SELECT MIN(Likes) , MAX(Likes) , AVG(Likes) FROM tip\n",
    "+------------+------------+------------+\n",
    "| MIN(Likes) | MAX(Likes) | AVG(Likes) |\n",
    "+------------+------------+------------+\n",
    "|          0 |          2 |     0.0144 |\n",
    "+------------+------------+------------+\n",
    "\n",
    "\n",
    "\t\t+------------+------------+------------++------------+------------+------------+\n",
    "\n",
    "\tiv. Table: Checkin, Column: Count\n",
    "\t\n",
    "\t\tmin: 1 \t\tmax: 53\t\tavg: 1.9414\n",
    "        \n",
    "SELECT MIN(Count) , MAX(Count) , AVG(Count) FROM Checkin\n",
    "+------------+------------+------------+\n",
    "| MIN(Count) | MAX(Count) | AVG(Count) |\n",
    "+------------+------------+------------+\n",
    "|          1 |         53 |     1.9414 |\n",
    "+------------+------------+------------+\n",
    "\n",
    "        \n",
    "        +------------+------------+------------++------------+------------+------------+\n",
    "\n",
    "\t\t\n",
    "\t\n",
    "\tv. Table: User, Column: Review_count\n",
    "\t\n",
    "\t\tmin: 0\t\tmax: 2000\t\tavg: 24.2995\n",
    "\n",
    "SELECT MIN(Review_count) , MAX(Review_count) , AVG(Review_count) FROM user\n",
    "+-------------------+-------------------+-------------------+\n",
    "| MIN(Review_count) | MAX(Review_count) | AVG(Review_count) |\n",
    "+-------------------+-------------------+-------------------+\n",
    "|                 0 |              2000 |           24.2995 |\n",
    "+-------------------+-------------------+-------------------+\n"
   ]
  },
  {
   "cell_type": "code",
   "execution_count": null,
   "metadata": {
    "slideshow": {
     "slide_type": "slide"
    }
   },
   "outputs": [],
   "source": [
    "5. List the cities with the most reviews in descending order:\n",
    "\n",
    "\tSQL code used to arrive at answer:\n",
    "    \n",
    "SELECT city , SUM(review_count) AS review_count FROM business \n",
    "GROUP BY city\n",
    "ORDER BY review_count DESC \n",
    "\t\n",
    "\t\n",
    "\tCopy and Paste the Result Below:\n",
    "+-----------------+--------------+\n",
    "| city            | review_count |\n",
    "+-----------------+--------------+\n",
    "| Las Vegas       |        82854 |"
   ]
  },
  {
   "cell_type": "code",
   "execution_count": null,
   "metadata": {
    "slideshow": {
     "slide_type": "slide"
    }
   },
   "outputs": [],
   "source": [
    "6. Find the distribution of star ratings to the business in the following cities:\n",
    "\n",
    "i. Avon\n",
    "\n",
    "SQL code used to arrive at answer:\n",
    "\n",
    "SELECT stars , SUM(stars) AS COUNT\n",
    "FROM business\n",
    "WHERE city = 'Avon'\n",
    "GROUP BY stars\n",
    "\n",
    "\n",
    "Copy and Paste the Resulting Table Below (2 columns â€“ star rating and count):\n",
    "+-------+-------+\n",
    "| stars | COUNT |\n",
    "+-------+-------+\n",
    "|   1.5 |   1.5 |\n",
    "|   2.5 |   5.0 |\n",
    "|   3.5 |  10.5 |\n",
    "|   4.0 |   8.0 |\n",
    "|   4.5 |   4.5 |\n",
    "|   5.0 |   5.0 |\n",
    "+-------+-------+\n",
    "\n",
    "        +------------+------------+------------++------------+------------+------------+\n",
    "\n",
    "\n",
    "ii. Beachwood\n",
    "\n",
    "SQL code used to arrive at answer:\n",
    "\n",
    "SELECT stars , SUM(stars) AS COUNT\n",
    "FROM business\n",
    "WHERE city = 'Beachwood'\n",
    "GROUP BY stars\n",
    "\n",
    "\n",
    "Copy and Paste the Resulting Table Below (2 columns â€“ star rating and count):\n",
    "\t\t\n",
    "\n",
    "+-------+-------+\n",
    "| stars | COUNT |\n",
    "+-------+-------+\n",
    "|   2.0 |   2.0 |\n",
    "|   2.5 |   2.5 |\n",
    "|   3.0 |   6.0 |\n",
    "|   3.5 |   7.0 |\n",
    "|   4.0 |   4.0 |\n",
    "|   4.5 |   9.0 |\n",
    "|   5.0 |  25.0 |\n",
    "+-------+-------+"
   ]
  },
  {
   "cell_type": "code",
   "execution_count": null,
   "metadata": {
    "slideshow": {
     "slide_type": "slide"
    }
   },
   "outputs": [],
   "source": [
    "\n",
    "7. Find the top 3 users based on their total number of reviews:\n",
    "\t\t\n",
    "\tSQL code used to arrive at answer:\n",
    "    \n",
    "SELECT id , name , review_count\n",
    "FROM user\n",
    "ORDER BY review_count DESC \n",
    "LIMIT 3 \n",
    "\t\n",
    "\t\t\n",
    "\tCopy and Paste the Result Below:\n",
    "    \n",
    "+------------------------+--------+--------------+\n",
    "| id                     | name   | review_count |\n",
    "+------------------------+--------+--------------+\n",
    "| -G7Zkl1wIWBBmD0KRy_sCw | Gerald |         2000 |\n",
    "| -3s52C4zL_DHRK0ULG6qtg | Sara   |         1629 |\n",
    "| -8lbUNlXVSoXqaRRiHiSNg | Yuri   |         1339 |\n",
    "+------------------------+--------+--------------+"
   ]
  },
  {
   "cell_type": "code",
   "execution_count": null,
   "metadata": {
    "slideshow": {
     "slide_type": "slide"
    }
   },
   "outputs": [],
   "source": [
    "8. Does posing more reviews correlate with more fans?\n",
    "\n",
    "\tPlease explain your findings and interpretation of the results:\n",
    "\t\n",
    "    \n",
    "SELECT name , id , SUM(fans) , SUM(review_count) AS num_reviews , DATE(yelping_since) AS year \n",
    "FROM user \n",
    "GROUP BY year\n",
    "ORDER BY year DESC , num_reviews DESC \n",
    "\n",
    "\n",
    "+------------+------------------------+-----------+-------------+------------+\n",
    "| name       | id                     | SUM(fans) | num_reviews | year       |\n",
    "+------------+------------------------+-----------+-------------+------------+\n",
    "| Mo         | -KFzJzCpa0GLznAf69vEWg |         0 |           2 | 2017-07-26 |\n",
    "| Rose       | -K3SfRRdT-PlmjMWNBh94g |         0 |           2 | 2017-07-25 |\n",
    "| Luke       | -luD_MVs64DrIT6ZgbBgUQ |         0 |           4 | 2017-07-24 |\n",
    "| Emile      | -iqmhG0_99mtLNdXkBzPyQ |         0 |           2 | 2017-07-23 |\n",
    "| Babak      | -Lzl5USha5E3lzX6FOnRPQ |         0 |          12 | 2017-07-21 |\n",
    "| Kris       | -bDGesl1ghyId02n5a7vuA |         0 |           1 | 2017-07-20 |\n",
    "| James      | -HRvdYM7SIkkGcyB_oPJ7w |         0 |           3 | 2017-07-19 |\n",
    "| Yushirah   | -krfY6paxElsnq72msaTkw |         0 |           2 | 2017-07-18 |\n",
    "| Alan       | -GXkjLEMmJAMBkmKmwHgyg |         0 |           2 | 2017-07-17 |\n",
    "| Jack       | -dxf_QBPOCKLHp7--UGkdw |         0 |           1 | 2017-07-16 |\n",
    "| Karen      | -K55FNhrWKQVNmCIW7tPHw |         0 |           2 | 2017-07-15 |\n",
    "| Kid        | -2JaWozmY9C4s0l0qqMkTg |         0 |           1 | 2017-07-14 |\n",
    "| Thomas     | -hXEk7BiyN9VfEoU7e2Xtw |         0 |           9 | 2017-07-13 |\n",
    "| Ymk        | -5VlEWvhGIBrHyDoLs5h2g |         0 |           5 | 2017-07-12 |\n",
    "| Jacqueline | -dbvxAtzpew7TdhfzKOdWA |         0 |           4 | 2017-07-11 |\n",
    "| Joseph     | -hK5DC8TG7aLWRDgRLertA |         0 |           2 | 2017-07-10 |\n",
    "| Aaris      | -EpFpFDCGFQQxI_lsmGUSw |         1 |          48 | 2017-07-09 |\n",
    "| Eva        | -JO8ReHdLDIeLVP8dvAZaQ |         1 |           6 | 2017-07-08 |\n",
    "| Gail       | -jjD_H40FF18z94XKgJI8g |         0 |           3 | 2017-07-02 |\n",
    "| Suzi       | -ldHxTXtXZf82CfIUQ7nOw |         0 |           2 | 2017-07-01 |\n",
    "| Rosemary   | -HvPiUojZRtBomVutCUTvg |         0 |           1 | 2017-06-28 |\n",
    "| Jillian    | -EkTTQBjU60d-Nfn1kACjA |         0 |           5 | 2017-06-27 |\n",
    "| Brittany   | -kOz6o3Us4Ih047pFcrH_Q |         0 |           5 | 2017-06-26 |\n",
    "| Nic        | -2LVjbw3pNGCPTlNx-5pYg |         0 |           1 | 2017-06-25 |\n",
    "| Joann      | -iQAhjC8MkEEKdMsRLaxxQ |         0 |           2 | 2017-06-24 |\n",
    "+------------+------------------------+-----------+-------------+------------+\n",
    "(Output limit exceeded, 25 of 3212 total rows shown)\n",
    "\n",
    ">> according to the previous query \n",
    "\n",
    "using the date column : \n",
    " - there is no clear evidence that when the user post more reviews the number of fans will increase \n",
    " because as shown there are many 0 as number of fans although there are numbers of reviews "
   ]
  },
  {
   "cell_type": "code",
   "execution_count": null,
   "metadata": {
    "slideshow": {
     "slide_type": "slide"
    }
   },
   "outputs": [],
   "source": [
    "9. Are there more reviews with the word \"love\" or with the word \"hate\" in them?\n",
    "\n",
    "\tAnswer: love , 1780 count\n",
    "\n",
    "\t\n",
    "\tSQL code used to arrive at answer:\n",
    "    \n",
    "SELECT COUNT(*) FROM review \n",
    "WHERE text LIKE '%love%'    \n",
    "\n",
    "+----------+\n",
    "| COUNT(*) |\n",
    "+----------+\n",
    "|     1780 |\n",
    "+----------+\n",
    "\n",
    "\n",
    "SELECT COUNT(*) FROM review \n",
    "WHERE text LIKE '%hate%'\n",
    "\n",
    "+----------+\n",
    "| COUNT(*) |\n",
    "+----------+\n",
    "|      232 |\n",
    "+----------+"
   ]
  },
  {
   "cell_type": "code",
   "execution_count": null,
   "metadata": {
    "slideshow": {
     "slide_type": "slide"
    }
   },
   "outputs": [],
   "source": [
    "\t\n",
    "10. Find the top 10 users with the most fans:\n",
    "\n",
    "\tSQL code used to arrive at answer:\n",
    "\n",
    "SELECT id , name , SUM(fans) AS num_fans\n",
    "FROM user \n",
    "GROUP BY id\n",
    "ORDER BY num_fans DESC \n",
    "LIMIT 10\n",
    "\t\n",
    "\t\n",
    "\tCopy and Paste the Result Below:\n",
    "+------------------------+-----------+----------+\n",
    "| id                     | name      | num_fans |\n",
    "+------------------------+-----------+----------+\n",
    "| -9I98YbNQnLdAmcYfb324Q | Amy       |      503 |\n",
    "| -8EnCioUmDygAbsYZmTeRQ | Mimi      |      497 |\n",
    "| --2vR0DIsmQ6WfcSzKWigw | Harald    |      311 |\n",
    "| -G7Zkl1wIWBBmD0KRy_sCw | Gerald    |      253 |\n",
    "| -0IiMAZI2SsQ7VmyzJjokQ | Christine |      173 |\n",
    "| -g3XIcCb2b-BD0QBCcq2Sw | Lisa      |      159 |\n",
    "| -9bbDysuiWeo2VShFJJtcw | Cat       |      133 |\n",
    "| -FZBTkAZEXoP7CYvRV2ZwQ | William   |      126 |\n",
    "| -9da1xk7zgnnfO1uTVYGkA | Fran      |      124 |\n",
    "| -lh59ko3dxChBSZ9U7LfUw | Lissa     |      120 |\n",
    "+------------------------+-----------+----------+\n",
    "\n",
    "\n"
   ]
  },
  {
   "cell_type": "code",
   "execution_count": null,
   "metadata": {},
   "outputs": [],
   "source": []
  },
  {
   "cell_type": "code",
   "execution_count": null,
   "metadata": {
    "slideshow": {
     "slide_type": "slide"
    }
   },
   "outputs": [],
   "source": [
    "Part 2: Inferences and Analysis\n",
    "\n",
    "1. Pick one city and category of your choice and group the businesses in that city or category by their overall star rating. Compare the businesses with 2-3 stars to the businesses with 4-5 stars and answer the following questions. Include your code.\n",
    "\t\n",
    "i. Do the two groups you chose to analyze have a different distribution of hours?\n",
    "\n",
    "\n",
    "ii. Do the two groups you chose to analyze have a different number of reviews?\n",
    "         \n",
    "         \n",
    "iii. Are you able to infer anything from the location data provided between these two groups? Explain.\n",
    "\n",
    "SQL code used for analysis:\n",
    "\n",
    "\t\t\n",
    "\t\t\n",
    "2. Group business based on the ones that are open and the ones that are closed. What differences can you find between the ones that are still open and the ones that are closed? List at least two differences and the SQL code you used to arrive at your answer.\n",
    "\t\t\n",
    "i. Difference 1:\n",
    "         \n",
    "         \n",
    "ii. Difference 2:\n",
    "         \n",
    "         \n",
    "         \n",
    "SQL code used for analysis:\n",
    "\n",
    "\t\n",
    "\t\n",
    "3. For this last part of your analysis, you are going to choose the type of analysis you want to conduct on the Yelp dataset and are going to prepare the data for analysis.\n",
    "\n",
    "Ideas for analysis include: Parsing out keywords and business attributes for sentiment analysis, clustering businesses to find commonalities or anomalies between them, predicting the overall star rating for a business, predicting the number of fans a user will have, and so on. These are just a few examples to get you started, so feel free to be creative and come up with your own problem you want to solve. Provide answers, in-line, to all of the following:\n",
    "\t\n",
    "i. Indicate the type of analysis you chose to do:\n",
    "         \n",
    "         \n",
    "ii. Write 1-2 brief paragraphs on the type of data you will need for your analysis and why you chose that data:\n",
    "                           \n",
    "                  \n",
    "iii. Output of your finished dataset:\n",
    "         \n",
    "         \n",
    "iv. Provide the SQL code you used to create your final dataset:"
   ]
  },
  {
   "cell_type": "code",
   "execution_count": null,
   "metadata": {},
   "outputs": [],
   "source": [
    "\n",
    "1. Pick one city and category of your choice and group the businesses in that city or category by their overall star rating. Compare the businesses with 2-3 stars to the businesses with 4-5 stars and answer the following questions. Include your code.\n",
    "\t\n",
    "\n",
    "\n",
    "\n",
    "\n",
    "i. Do the two groups you chose to analyze have a different distribution of hours?\n",
    "yes\n",
    "\n",
    "ii. Do the two groups you chose to analyze have a different number of reviews?\n",
    "yes , the numbers of reviewfor (2-3) stars is higher than 4-5 stars \n",
    "\n",
    "\n",
    "SELECT SUM(num_reviews) , category FROM\n",
    "(SELECT  b.id , b.name , b.city , b.stars , b.review_count AS num_reviews ,\n",
    "h.hours AS hours ,\n",
    "CASE WHEN b.stars >= 2.0 AND b.stars <= 3.0 THEN '2-3 Stars'\n",
    "     WHEN b.stars >= 4.0 AND b.stars <= 5.0 THEN '4-5 Stars'\n",
    "     ELSE 'OTHER'\n",
    "     END AS category\n",
    "FROM business AS b\n",
    "JOIN hours AS h\n",
    "ON b.id = h.business_id\n",
    "WHERE b.city = 'Toronto')\n",
    "GROUP BY category\n",
    "\n",
    "\n",
    "+------------------+-----------+\n",
    "| SUM(num_reviews) | category  |\n",
    "+------------------+-----------+\n",
    "|             1015 | 2-3 Stars |\n",
    "|              954 | 4-5 Stars |\n",
    "|               60 | OTHER     |\n",
    "+------------------+-----------+\n",
    "\n",
    "         \n",
    "         \n",
    "iii. Are you able to infer anything from the location data provided between these two groups? Explain.\n",
    "\n",
    "Toronto | 169 Niagara Street has more  number of reviews and higher number of stars \n",
    "\n",
    "\n",
    "SELECT b.name , b.city , b.address , b.state , b.stars , b.review_count AS num_reviews ,\n",
    "h.hours AS hours ,\n",
    "CASE WHEN b.stars >= 2.0 AND b.stars <= 3.0 THEN '2-3 Stars'\n",
    "     WHEN b.stars >= 4.0 AND b.stars <= 5.0 THEN '4-5 Stars'\n",
    "     ELSE 'OTHER'\n",
    "     END AS category\n",
    "FROM business AS b\n",
    "JOIN hours AS h\n",
    "ON b.id = h.business_id\n",
    "WHERE b.city = 'Toronto'\n",
    "GROUP BY category\n",
    "\n",
    "+--------------------+---------+---------------------+-------+-------+-------------+----------------------+-----------+\n",
    "| name               | city    | address             | state | stars | num_reviews | hours                | category  |\n",
    "+--------------------+---------+---------------------+-------+-------+-------------+----------------------+-----------+\n",
    "| The Fox & Fiddle   | Toronto | 535 Danforth Ave    | ON    |   2.5 |          35 | Saturday|10:00-2:00  | 2-3 Stars |\n",
    "| Edulis             | Toronto | 169 Niagara Street  | ON    |   4.0 |          89 | Saturday|18:00-23:00 | 4-5 Stars |\n",
    "| The Charlotte Room | Toronto | 19 Charlotte Street | ON    |   3.5 |          10 | Saturday|18:00-2:00  | OTHER     |\n",
    "+--------------------+---------+---------------------+-------+-------+-------------+----------------------+-----------+"
   ]
  },
  {
   "cell_type": "code",
   "execution_count": null,
   "metadata": {
    "slideshow": {
     "slide_type": "slide"
    }
   },
   "outputs": [],
   "source": [
    "1) first query \n",
    "\n",
    "SELECT  id , name , city , stars , review_count , \n",
    "CASE WHEN stars >= 2.0 AND stars <= 3.0 THEN '2-3 Stars'\n",
    "     WHEN stars >= 4.0 AND stars <= 5.0 THEN '4-5 Stars'\n",
    "     ELSE 'OTHER'\n",
    "     END AS category\n",
    "FROM business\n",
    "WHERE city = 'Toronto'\n",
    "\n",
    "\n",
    "2) \n",
    "\n",
    "SELECT  b.id , b.name , b.city , b.stars , b.review_count , h.hours ,\n",
    "CASE WHEN b.stars >= 2.0 AND b.stars <= 3.0 THEN '2-3 Stars'\n",
    "     WHEN b.stars >= 4.0 AND b.stars <= 5.0 THEN '4-5 Stars'\n",
    "     ELSE 'OTHER'\n",
    "     END AS category\n",
    "FROM business AS b\n",
    "JOIN hours AS h\n",
    "ON b.id = h.business_id\n",
    "WHERE b.city = 'Toronto'\n",
    "\n",
    "\n"
   ]
  },
  {
   "cell_type": "code",
   "execution_count": null,
   "metadata": {},
   "outputs": [],
   "source": [
    "2. Group business based on the ones that are open and the ones that are closed. What differences can you find between the ones that are still open and the ones that are closed? List at least two differences and the SQL code you used to arrive at your answer.\n",
    "\t\t\n",
    "i. Difference 1:\n",
    "         number of reviews and stars are higher when the it is still open \n",
    "         \n",
    "ii. Difference 2:\n",
    " - buisness that located at neighborhood has a is_open = 1 more than is_open = 0\n",
    "  that mean the location in neighborhood has a good effect in the state of the buisness \n",
    "         \n",
    "         \n",
    "         \n",
    "SQL code used for analysis:\n",
    "\n",
    "\n",
    "\n",
    "1) \n",
    "SELECT is_open , SUM(stars) AS num_stars , SUM(review_count) AS num_reviews\n",
    "FROM business \n",
    "GROUP BY is_open \n",
    "\n",
    "+---------+-----------+-------------+\n",
    "| is_open | num_stars | num_reviews |\n",
    "+---------+-----------+-------------+\n",
    "|       0 |    5351.0 |       35261 |\n",
    "|       1 |   31198.0 |      269300 |\n",
    "+---------+-----------+-------------+\n",
    "\n",
    "\n",
    "2)\n",
    "SELECT city , state , SUM(stars) , SUM(review_count) , is_open\n",
    "FROM business\n",
    "WHERE is_open = 1\n",
    "GROUP BY city\n",
    "ORDER BY SUM(review_count) DESC\n",
    "\n",
    "\n",
    "+-----------------+-------+------------+-------------------+---------+\n",
    "| city            | state | SUM(stars) | SUM(review_count) | is_open |\n",
    "+-----------------+-------+------------+-------------------+---------+\n",
    "| Las Vegas       | NV    |     4968.0 |             72264 |       1 |\n",
    "| Phoenix         | AZ    |     3103.5 |             30251 |       1 |\n",
    "| Toronto         | ON    |     2820.0 |             20078 |       1 |\n",
    "| Scottsdale      | AZ    |     1666.5 |             18781 |       1 |\n",
    "| Charlotte       | NC    |     1425.5 |             11033 |       1 |\n",
    "| Henderson       | NV    |      890.5 |             10172 |       1 |\n",
    "| Tempe           | AZ    |      813.5 |              9258 |       1 |\n",
    "| Montréal        | QC    |     1042.0 |              8713 |       1 |\n",
    "| Pittsburgh      | PA    |     1129.0 |              8661 |       1 |\n",
    "| Chandler        | AZ    |      698.0 |              6609 |       1 |\n",
    "| Gilbert         | AZ    |      647.0 |              6050 |       1 |\n",
    "| Mesa            | AZ    |      941.5 |              5779 |       1 |\n",
    "| Cleveland       | OH    |      583.5 |              5123 |       1 |\n",
    "| Madison         | WI    |      562.0 |              4836 |       1 |\n",
    "| Glendale        | AZ    |      576.5 |              3976 |       1 |\n",
    "| Mississauga     | ON    |      464.0 |              3481 |       1 |\n",
    "| Peoria          | AZ    |      381.5 |              2483 |       1 |\n",
    "| North Las Vegas | NV    |      187.5 |              2305 |       1 |\n",
    "| Edinburgh       | EDH   |      711.5 |              2216 |       1 |\n",
    "| Markham         | ON    |      214.0 |              2078 |       1 |\n",
    "| Champaign       | IL    |      211.5 |              1905 |       1 |\n",
    "| Stuttgart       | BW    |      476.5 |              1715 |       1 |\n",
    "| Lakewood        | OH    |      109.0 |              1380 |       1 |\n",
    "| Surprise        | AZ    |      184.5 |              1379 |       1 |\n",
    "| Goodyear        | AZ    |      136.5 |              1121 |       1 |\n",
    "+-----------------+-------+------------+-------------------+---------+\n",
    "(Output limit exceeded, 25 of 351 total rows shown)\n",
    "\n",
    "\n",
    "\n",
    "SELECT city , state , SUM(stars) , SUM(review_count) , is_open\n",
    "FROM business\n",
    "WHERE is_open = 0\n",
    "GROUP BY city\n",
    "ORDER BY SUM(review_count) DESC\n",
    "\n",
    "\n",
    "+-------------------+-------+------------+-------------------+---------+\n",
    "| city              | state | SUM(stars) | SUM(review_count) | is_open |\n",
    "+-------------------+-------+------------+-------------------+---------+\n",
    "| Las Vegas         | NV    |      875.0 |             10590 |       0 |\n",
    "| Phoenix           | AZ    |      540.0 |              4252 |       0 |\n",
    "| Toronto           | ON    |      672.5 |              4035 |       0 |\n",
    "| Scottsdale        | AZ    |      300.0 |              1833 |       0 |\n",
    "| Chandler          | AZ    |      154.0 |              1503 |       0 |\n",
    "| Charlotte         | NC    |      247.5 |              1490 |       0 |\n",
    "| Tempe             | AZ    |      158.5 |              1246 |       0 |\n",
    "| Pittsburgh        | PA    |      213.5 |              1137 |       0 |\n",
    "| Mesa              | AZ    |      152.5 |              1096 |       0 |\n",
    "| Montréal          | QC    |      193.0 |               735 |       0 |\n",
    "| Henderson         | NV    |      132.5 |               699 |       0 |\n",
    "| Edinburgh         | EDH   |      196.5 |               576 |       0 |\n",
    "| Cleveland         | OH    |      108.0 |               470 |       0 |\n",
    "| Glendale          | AZ    |       90.0 |               430 |       0 |\n",
    "| Madison           | WI    |       86.5 |               429 |       0 |\n",
    "| Mississauga       | ON    |       49.5 |               333 |       0 |\n",
    "| Gilbert           | AZ    |       79.0 |               330 |       0 |\n",
    "| Markham           | ON    |       48.5 |               274 |       0 |\n",
    "| Cornelius         | NC    |       18.0 |               215 |       0 |\n",
    "| Cleveland Heights | OH    |       14.0 |               175 |       0 |\n",
    "| Paradise Valley   | AZ    |        4.0 |               169 |       0 |\n",
    "| Richmond Hill     | ON    |       36.5 |               146 |       0 |\n",
    "| Peoria            | AZ    |       16.0 |               141 |       0 |\n",
    "| Surprise          | AZ    |       36.0 |               141 |       0 |\n",
    "| Stuttgart         | BW    |       61.0 |               134 |       0 |\n",
    "+-------------------+-------+------------+-------------------+---------+\n",
    "\n",
    "\n",
    "\n",
    "ii) \n",
    "SELECT name , neighborhood , is_open , stars , SUM(review_count)\n",
    "FROM business \n",
    "WHERE is_open  = 0\n",
    "GROUP BY  neighborhood\n",
    "\n",
    "(Output limit exceeded, 25 of 168 total rows shown)\n",
    "\n",
    "\n",
    "SELECT name , neighborhood , is_open , stars , SUM(review_count)\n",
    "FROM business \n",
    "WHERE is_open  = 1\n",
    "GROUP BY  neighborhood\n",
    "\n",
    "(Output limit exceeded, 25 of 280 total rows shown)\n",
    "\n"
   ]
  },
  {
   "cell_type": "code",
   "execution_count": null,
   "metadata": {},
   "outputs": [],
   "source": []
  },
  {
   "cell_type": "code",
   "execution_count": null,
   "metadata": {
    "slideshow": {
     "slide_type": "slide"
    }
   },
   "outputs": [],
   "source": [
    "\n",
    "\n",
    "\n",
    "Ideas for analysis include: Parsing out keywords and business attributes for sentiment analysis, clustering businesses to find commonalities or anomalies between them, predicting the overall star rating for a business, predicting the number of fans a user will have, and so on. These are just a few examples to get you started, so feel free to be creative and come up with your own problem you want to solve. Provide answers, in-line, to all of the following:\n",
    "\t\n",
    "i. Indicate the type of analysis you chose to do:\n",
    "         sentiment analysis\n",
    "         \n",
    "ii. Write 1-2 brief paragraphs on the type of data you will need for your analysis and why you chose that data:\n",
    " i need a text data from the user that include reviews about the business with key words that indicate is it a positive or negative review also a rating column and number of people who did this review , also is it still open or not \n",
    "                           \n",
    "                  \n",
    "iii. Output of your finished dataset:\n",
    "- the more the LENGTH of the review text the more it indicates to complement\n",
    "\n",
    "         \n",
    "iv. Provide the SQL code you used to create your final dataset:\n",
    "\n",
    "SELECT LENGTH(text) , text FROM review \n",
    "\n",
    "\n",
    "\n",
    "SELECT r.business_id , SUM(r.stars) , r.cool , r.funny , r.useful \n",
    "FROM review As r \n",
    "JOIN business AS b \n",
    "ON b.id = r.business_id\n",
    "GROUP BY r.business_id\n",
    "\n",
    "\n",
    "+------------------------+--------------+------+-------+--------+\n",
    "| business_id            | SUM(r.stars) | cool | funny | useful |\n",
    "+------------------------+--------------+------+-------+--------+\n",
    "| --9e1ONYQuAa-CB_Rrw7Tw |           17 |    0 |     1 |      1 |\n",
    "| --cZ6Hhc9F7VkKXxHMVZSQ |            6 |    0 |     0 |      0 |\n",
    "| -050d_XIor1NpCuWkbIVaQ |            5 |    0 |     0 |      1 |\n",
    "| -0NrB58jqKqJfuUCDupcsw |            1 |    0 |     0 |      1 |\n",
    "| -0tgMGl7D9B10YjSN2ujLA |            4 |    3 |     2 |      2 |\n",
    "| -1UMR00eXtwaeh59pEiDjA |            2 |    0 |     0 |      0 |\n",
    "| -1xuC540Nycht_iWFeJ-dw |            3 |    0 |     0 |      0 |\n",
    "| -2TKoFglMQvSmHSNWf6S8Q |            3 |    0 |     0 |      0 |\n",
    "| -2uhc4spgMqJMy0YSxConA |            5 |    0 |     0 |      0 |\n",
    "| -38Kck4mGlkBwd6OXayZRg |            5 |    0 |     0 |      0 |\n",
    "| -3QHAylnVB-vNmCg2Rf5aw |            5 |    0 |     0 |      1 |\n",
    "| -3zffZUHoY8bQjGfPSoBKQ |            9 |    0 |     0 |      1 |\n",
    "| -5L8zOxibac-vBrsYtxXbQ |            5 |    0 |     0 |      0 |\n",
    "| -5NXoZeGBdx3Bdk70tuyCw |            5 |    0 |     0 |      1 |\n",
    "| -5TBEK1ddM41v_gqGm5oyw |            5 |    0 |     0 |      2 |\n",
    "| -6tvduBzjLI1ISfs3F_qTg |            4 |    0 |     0 |      0 |\n",
    "| -7H-oXvCxJzuT42ky6Db0g |            6 |    0 |     0 |      0 |\n",
    "| -7PX_FOoCwktlunImRyZdg |            5 |    0 |     0 |      0 |\n",
    "| -82Z0wTA-nOCLUVD4XXIBA |            1 |    0 |     0 |      0 |\n",
    "| -8O8sVCnaIKHP-596zN9UA |            1 |    0 |     1 |      5 |\n",
    "| -8QlV3b_9H4BAh6LgMIr1g |            5 |    1 |     0 |      1 |\n",
    "| -8ZiMXZReeTD3kwEvS0Lww |            5 |    0 |     0 |      0 |\n",
    "| -92cC6-X87HQ1DE1UHOx3w |            1 |    0 |     2 |      2 |\n",
    "| -95mbLJsa0CxXhpaNL4LvA |            5 |    3 |     1 |      2 |\n",
    "| -9YyInW1wapzdNZrhQJ9dg |            7 |    0 |     0 |      0 |\n",
    "+------------------------+--------------+------+-------+--------+\n",
    "(Output limit exceeded, 25 of 507 total rows shown)\n"
   ]
  },
  {
   "cell_type": "code",
   "execution_count": null,
   "metadata": {},
   "outputs": [],
   "source": [
    "\n",
    "SELECT r.business_id , SUM(r.stars) , r.cool , r.funny , r.useful , \n",
    "SUM(b.review_count) AS rev_count , b.is_open , b.city \n",
    "FROM review As r \n",
    "JOIN business AS b \n",
    "ON b.id = r.business_id\n",
    "WHERE is_open = 1\n",
    "GROUP BY b.city\n",
    "ORDER BY rev_count DESC \n",
    "\n",
    "\n",
    "\n",
    "+------------------------+--------------+------+-------+--------+-----------+---------+-----------------+\n",
    "| business_id            | SUM(r.stars) | cool | funny | useful | rev_count | is_open | city            |\n",
    "+------------------------+--------------+------+-------+--------+-----------+---------+-----------------+\n",
    "| 36RlO3r8oRzojGXxqD6-dA |          636 |    0 |     0 |      1 |     97669 |       1 | Las Vegas       |\n",
    "| 38tScZkvRLoa5h-wNPyjkw |          206 |    0 |     0 |      0 |     10401 |       1 | Phoenix         |\n",
    "| 3188t5PMa_XLlah-2UBRoA |          141 |    0 |     0 |      1 |     10060 |       1 | Scottsdale      |\n",
    "| 2KWkeOk1KaH50Es_A-8cnA |           57 |    0 |     0 |      1 |      9813 |       1 | Gilbert         |\n",
    "| 35lDiS--Zx-8HLwv2EZBGQ |          114 |    0 |     1 |      0 |      6652 |       1 | Henderson       |\n",
    "| 35SEr0cPTuoBJ1DYQ686pA |          153 |    0 |     0 |      1 |      6524 |       1 | Toronto         |\n",
    "| 2NpoKiship3R6lqexwbFVw |           63 |    0 |     0 |      1 |      5649 |       1 | Montréal        |\n",
    "| 366FaRQ1MWEHBhaEKTcriQ |          108 |    0 |     0 |      0 |      4360 |       1 | Tempe           |\n",
    "| 36GvUjLg3drdOB3jgpqTOQ |           74 |    0 |     0 |      3 |      3383 |       1 | Chandler        |\n",
    "| 3-HFGxmbzSax-NySJ_LzDg |           61 |    0 |     0 |      1 |      2721 |       1 | Madison         |\n",
    "| 2S6p5ICNswz_EdgcZk76qQ |           57 |    1 |     0 |      2 |      2475 |       1 | Charlotte       |\n",
    "| 2AM9rlnUE8chfYHzetRJMA |           38 |    0 |     0 |      1 |      2306 |       1 | Cleveland       |\n",
    "| 2wCzZUwcqRRBrAtBBYxnog |           72 |    0 |     0 |      0 |      2273 |       1 | Pittsburgh      |\n",
    "| 2g6x4ISNiMxFnotBuwmZmw |           45 |    0 |     0 |      0 |      1470 |       1 | Mesa            |\n",
    "| 0EeciPtb--c42OUE7Nm9mg |            8 |    0 |     0 |      0 |      1462 |       1 | Mississauga     |\n",
    "| 309bnXTHirKMU6wz1HwRjQ |           20 |    0 |     0 |      2 |      1220 |       1 | Lakewood        |\n",
    "| 2fqHO2vFbcwVV27c_Irm8Q |           19 |    1 |     1 |      1 |      1004 |       1 | North Las Vegas |\n",
    "| 2W3bij9DEFbuwVvSqXYicw |           14 |    0 |     0 |      0 |       551 |       1 | Glendale        |\n",
    "| 2NICrHy0I5rlEJmlt0ao9A |           14 |    0 |     0 |      0 |       537 |       1 | Cave Creek      |\n",
    "| 1jt4SuIHAtXD9aPnPqZ3BQ |           14 |    0 |     0 |      0 |       504 |       1 | Champaign       |\n",
    "| -_yAaFHx0e1ZqmuHTtqnFA |           12 |    0 |     0 |      2 |       338 |       1 | Surprise        |\n",
    "| 3-i1qd64K-WLo0fJ5wrbbw |           14 |    0 |     0 |      0 |       327 |       1 | North York      |\n",
    "| 2tHWNuSOkKCpRdEVLaRGmA |           10 |    0 |     0 |      0 |       296 |       1 | Markham         |\n",
    "| 2tE_n3ws4Vn1byejSZZIsQ |            7 |    0 |     0 |      0 |       294 |       1 | Avondale        |\n",
    "| -R2kwt0qMnzwEdAfXPvkXg |            1 |    0 |     0 |      1 |       264 |       1 | Monroeville     |\n",
    "+------------------------+--------------+------+-------+--------+-----------+---------+-----------------+\n",
    "(Output limit exceeded, 25 of 62 total rows shown)\n"
   ]
  },
  {
   "cell_type": "code",
   "execution_count": null,
   "metadata": {
    "slideshow": {
     "slide_type": "slide"
    }
   },
   "outputs": [],
   "source": []
  },
  {
   "cell_type": "code",
   "execution_count": null,
   "metadata": {},
   "outputs": [],
   "source": []
  },
  {
   "cell_type": "code",
   "execution_count": null,
   "metadata": {},
   "outputs": [],
   "source": []
  }
 ],
 "metadata": {
  "kernelspec": {
   "display_name": "Python 3",
   "language": "python",
   "name": "python3"
  },
  "language_info": {
   "codemirror_mode": {
    "name": "ipython",
    "version": 3
   },
   "file_extension": ".py",
   "mimetype": "text/x-python",
   "name": "python",
   "nbconvert_exporter": "python",
   "pygments_lexer": "ipython3",
   "version": "3.7.6"
  }
 },
 "nbformat": 4,
 "nbformat_minor": 4
}
